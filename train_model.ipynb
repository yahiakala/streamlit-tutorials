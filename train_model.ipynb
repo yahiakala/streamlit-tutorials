{
 "cells": [
  {
   "cell_type": "code",
   "execution_count": 1,
   "id": "de3c944b-fc41-4160-8315-07a63b995890",
   "metadata": {},
   "outputs": [
    {
     "name": "stderr",
     "output_type": "stream",
     "text": [
      "Using TensorFlow backend.\n",
      "C:\\Users\\Yahia.Kala\\Anaconda3\\envs\\stream1\\lib\\site-packages\\tensorflow\\python\\framework\\dtypes.py:516: FutureWarning: Passing (type, 1) or '1type' as a synonym of type is deprecated; in a future version of numpy, it will be understood as (type, (1,)) / '(1,)type'.\n",
      "  _np_qint8 = np.dtype([(\"qint8\", np.int8, 1)])\n",
      "C:\\Users\\Yahia.Kala\\Anaconda3\\envs\\stream1\\lib\\site-packages\\tensorflow\\python\\framework\\dtypes.py:517: FutureWarning: Passing (type, 1) or '1type' as a synonym of type is deprecated; in a future version of numpy, it will be understood as (type, (1,)) / '(1,)type'.\n",
      "  _np_quint8 = np.dtype([(\"quint8\", np.uint8, 1)])\n",
      "C:\\Users\\Yahia.Kala\\Anaconda3\\envs\\stream1\\lib\\site-packages\\tensorflow\\python\\framework\\dtypes.py:518: FutureWarning: Passing (type, 1) or '1type' as a synonym of type is deprecated; in a future version of numpy, it will be understood as (type, (1,)) / '(1,)type'.\n",
      "  _np_qint16 = np.dtype([(\"qint16\", np.int16, 1)])\n",
      "C:\\Users\\Yahia.Kala\\Anaconda3\\envs\\stream1\\lib\\site-packages\\tensorflow\\python\\framework\\dtypes.py:519: FutureWarning: Passing (type, 1) or '1type' as a synonym of type is deprecated; in a future version of numpy, it will be understood as (type, (1,)) / '(1,)type'.\n",
      "  _np_quint16 = np.dtype([(\"quint16\", np.uint16, 1)])\n",
      "C:\\Users\\Yahia.Kala\\Anaconda3\\envs\\stream1\\lib\\site-packages\\tensorflow\\python\\framework\\dtypes.py:520: FutureWarning: Passing (type, 1) or '1type' as a synonym of type is deprecated; in a future version of numpy, it will be understood as (type, (1,)) / '(1,)type'.\n",
      "  _np_qint32 = np.dtype([(\"qint32\", np.int32, 1)])\n",
      "C:\\Users\\Yahia.Kala\\Anaconda3\\envs\\stream1\\lib\\site-packages\\tensorflow\\python\\framework\\dtypes.py:525: FutureWarning: Passing (type, 1) or '1type' as a synonym of type is deprecated; in a future version of numpy, it will be understood as (type, (1,)) / '(1,)type'.\n",
      "  np_resource = np.dtype([(\"resource\", np.ubyte, 1)])\n",
      "C:\\Users\\Yahia.Kala\\Anaconda3\\envs\\stream1\\lib\\site-packages\\tensorboard\\compat\\tensorflow_stub\\dtypes.py:541: FutureWarning: Passing (type, 1) or '1type' as a synonym of type is deprecated; in a future version of numpy, it will be understood as (type, (1,)) / '(1,)type'.\n",
      "  _np_qint8 = np.dtype([(\"qint8\", np.int8, 1)])\n",
      "C:\\Users\\Yahia.Kala\\Anaconda3\\envs\\stream1\\lib\\site-packages\\tensorboard\\compat\\tensorflow_stub\\dtypes.py:542: FutureWarning: Passing (type, 1) or '1type' as a synonym of type is deprecated; in a future version of numpy, it will be understood as (type, (1,)) / '(1,)type'.\n",
      "  _np_quint8 = np.dtype([(\"quint8\", np.uint8, 1)])\n",
      "C:\\Users\\Yahia.Kala\\Anaconda3\\envs\\stream1\\lib\\site-packages\\tensorboard\\compat\\tensorflow_stub\\dtypes.py:543: FutureWarning: Passing (type, 1) or '1type' as a synonym of type is deprecated; in a future version of numpy, it will be understood as (type, (1,)) / '(1,)type'.\n",
      "  _np_qint16 = np.dtype([(\"qint16\", np.int16, 1)])\n",
      "C:\\Users\\Yahia.Kala\\Anaconda3\\envs\\stream1\\lib\\site-packages\\tensorboard\\compat\\tensorflow_stub\\dtypes.py:544: FutureWarning: Passing (type, 1) or '1type' as a synonym of type is deprecated; in a future version of numpy, it will be understood as (type, (1,)) / '(1,)type'.\n",
      "  _np_quint16 = np.dtype([(\"quint16\", np.uint16, 1)])\n",
      "C:\\Users\\Yahia.Kala\\Anaconda3\\envs\\stream1\\lib\\site-packages\\tensorboard\\compat\\tensorflow_stub\\dtypes.py:545: FutureWarning: Passing (type, 1) or '1type' as a synonym of type is deprecated; in a future version of numpy, it will be understood as (type, (1,)) / '(1,)type'.\n",
      "  _np_qint32 = np.dtype([(\"qint32\", np.int32, 1)])\n",
      "C:\\Users\\Yahia.Kala\\Anaconda3\\envs\\stream1\\lib\\site-packages\\tensorboard\\compat\\tensorflow_stub\\dtypes.py:550: FutureWarning: Passing (type, 1) or '1type' as a synonym of type is deprecated; in a future version of numpy, it will be understood as (type, (1,)) / '(1,)type'.\n",
      "  np_resource = np.dtype([(\"resource\", np.ubyte, 1)])\n"
     ]
    }
   ],
   "source": [
    "from sklearn.preprocessing import LabelEncoder\n",
    "from sklearn.model_selection import train_test_split\n",
    "from sklearn.metrics import classification_report\n",
    "from keras.preprocessing.image import img_to_array\n",
    "from keras.utils import np_utils\n",
    "from lenet.nn.conv import LeNet\n",
    "from imutils import paths\n",
    "import imutils\n",
    "import matplotlib.pyplot as plt\n",
    "import numpy as np\n",
    "import argparse\n",
    "import cv2\n",
    "import os"
   ]
  },
  {
   "cell_type": "code",
   "execution_count": 22,
   "id": "4fe488fe-a8e5-44a2-8bd7-4a14cf4166f9",
   "metadata": {},
   "outputs": [],
   "source": [
    "import pandas as pd"
   ]
  },
  {
   "cell_type": "code",
   "execution_count": 2,
   "id": "25a53235-50d9-46e0-8049-a94da3d9f4fd",
   "metadata": {},
   "outputs": [],
   "source": [
    "args = {}\n",
    "args['dataset'] = './SMILEs'\n",
    "args['model'] = './model3.h5'"
   ]
  },
  {
   "cell_type": "code",
   "execution_count": 3,
   "id": "a928d414-b1e8-47fc-8e2b-40395c907e1a",
   "metadata": {},
   "outputs": [],
   "source": [
    "# initialize the list of data and labels\n",
    "data = []\n",
    "labels = []\n",
    "\n",
    "# loop over the input images\n",
    "for imagePath in sorted(list(paths.list_images(args['dataset']))):\n",
    "    # load the image, pre-process it, and store in the data list\n",
    "    image = cv2.imread(imagePath)\n",
    "    image = cv2.cvtColor(image, cv2.COLOR_BGR2GRAY)\n",
    "    image = imutils.resize(image, width=28) # 28 x 28 x 1\n",
    "    image = img_to_array(image)\n",
    "    data.append(image)\n",
    "\n",
    "    # extravt the class label from the image path and update the labels list\n",
    "    label = imagePath.split(os.path.sep)[-3] # C:\\Users\\Balaji\\Documents\\Smile-Detector\\SMILEs\\positives\\positives7\\3.jpg\n",
    "    label = 'smiling' if label == 'positives' else 'not_smiling'\n",
    "    labels.append(label)"
   ]
  },
  {
   "cell_type": "code",
   "execution_count": 4,
   "id": "331aeb2d-4f8d-4f65-a9af-d44682014834",
   "metadata": {},
   "outputs": [
    {
     "data": {
      "text/plain": [
       "(13165, 13165)"
      ]
     },
     "execution_count": 4,
     "metadata": {},
     "output_type": "execute_result"
    }
   ],
   "source": [
    "len(data), len(labels)"
   ]
  },
  {
   "cell_type": "code",
   "execution_count": 5,
   "id": "5e80b55c-af20-4acf-992f-add78ff9eae3",
   "metadata": {},
   "outputs": [
    {
     "data": {
      "text/plain": [
       "(28, 28, 1)"
      ]
     },
     "execution_count": 5,
     "metadata": {},
     "output_type": "execute_result"
    }
   ],
   "source": [
    "np.shape(data[0])"
   ]
  },
  {
   "cell_type": "code",
   "execution_count": 6,
   "id": "0bd2f1f4-4bbb-45ec-b9eb-a0587fd60bd5",
   "metadata": {},
   "outputs": [
    {
     "data": {
      "text/plain": [
       "['not_smiling', 'not_smiling', 'not_smiling']"
      ]
     },
     "execution_count": 6,
     "metadata": {},
     "output_type": "execute_result"
    }
   ],
   "source": [
    "labels[0:3]"
   ]
  },
  {
   "cell_type": "code",
   "execution_count": 7,
   "id": "f9b4ceef-e7ee-430c-b529-3ddfe617e18a",
   "metadata": {},
   "outputs": [],
   "source": [
    "# scale the raw pixel intensities to the range [0, 1]\n",
    "data = np.array(data, dtype='float') / 255.0 # 0 to 255\n",
    "labels = np.array(labels)"
   ]
  },
  {
   "cell_type": "code",
   "execution_count": 8,
   "id": "18ee5a87-b8aa-4530-a151-cd345ed97bff",
   "metadata": {},
   "outputs": [],
   "source": [
    "# convert the labels from integers to vectors\n",
    "le = LabelEncoder().fit(labels)\n",
    "labels = np_utils.to_categorical(le.transform(labels), 2)"
   ]
  },
  {
   "cell_type": "code",
   "execution_count": 9,
   "id": "5b266bed-abf2-4648-8a35-0c8cdbc37d79",
   "metadata": {},
   "outputs": [],
   "source": [
    "# account for skew in the labeled data\n",
    "classTotals = labels.sum(axis=0)\n",
    "classWeight = dict()\n",
    "\n",
    "\n",
    "for i in range(0, len(classTotals)):\n",
    "    classWeight[i] = classTotals.max() / classTotals[i]"
   ]
  },
  {
   "cell_type": "code",
   "execution_count": 10,
   "id": "0b0b374a-47db-4c02-a5a5-e26c2aecc490",
   "metadata": {},
   "outputs": [],
   "source": [
    "# partition the data into training and testing sploits using 80% of\n",
    "# the data for training and the remaining 20% for testing\n",
    "(trainX, testX, trainY, testY) = train_test_split(data,\n",
    "                                                  labels,\n",
    "                                                  test_size=0.20,\n",
    "                                                  stratify=labels,\n",
    "                                                  random_state=42)\n"
   ]
  },
  {
   "cell_type": "code",
   "execution_count": 11,
   "id": "3c4a1388-588f-4dd9-a4df-d1eab822a903",
   "metadata": {},
   "outputs": [
    {
     "name": "stdout",
     "output_type": "stream",
     "text": [
      "[INFO] compiling model...\n",
      "WARNING:tensorflow:From C:\\Users\\Yahia.Kala\\Anaconda3\\envs\\stream1\\lib\\site-packages\\keras\\backend\\tensorflow_backend.py:4070: The name tf.nn.max_pool is deprecated. Please use tf.nn.max_pool2d instead.\n",
      "\n"
     ]
    }
   ],
   "source": [
    "\n",
    "# initialize the model\n",
    "print('[INFO] compiling model...')\n",
    "model = LeNet.build(width=28, height=28, depth=1, classes=2)\n",
    "model.compile(loss=['binary_crossentropy'], optimizer='adam', metrics=['accuracy'])"
   ]
  },
  {
   "cell_type": "code",
   "execution_count": 12,
   "id": "1f098c1e-d353-41f9-bb85-eb16d22f69b5",
   "metadata": {},
   "outputs": [
    {
     "name": "stdout",
     "output_type": "stream",
     "text": [
      "[INFO] training network...\n",
      "WARNING:tensorflow:From C:\\Users\\Yahia.Kala\\Anaconda3\\envs\\stream1\\lib\\site-packages\\tensorflow\\python\\ops\\math_grad.py:1250: add_dispatch_support.<locals>.wrapper (from tensorflow.python.ops.array_ops) is deprecated and will be removed in a future version.\n",
      "Instructions for updating:\n",
      "Use tf.where in 2.0, which has the same broadcast rule as np.where\n",
      "WARNING:tensorflow:From C:\\Users\\Yahia.Kala\\Anaconda3\\envs\\stream1\\lib\\site-packages\\keras\\backend\\tensorflow_backend.py:422: The name tf.global_variables is deprecated. Please use tf.compat.v1.global_variables instead.\n",
      "\n",
      "Train on 10532 samples, validate on 2633 samples\n",
      "Epoch 1/15\n",
      "10532/10532 [==============================] - 12s 1ms/step - loss: 0.6484 - accuracy: 0.7856 - val_loss: 0.3798 - val_accuracy: 0.8333\n",
      "Epoch 2/15\n",
      "10532/10532 [==============================] - 12s 1ms/step - loss: 0.4419 - accuracy: 0.8765 - val_loss: 0.3195 - val_accuracy: 0.8618\n",
      "Epoch 3/15\n",
      "10532/10532 [==============================] - 15s 1ms/step - loss: 0.3976 - accuracy: 0.8895 - val_loss: 0.3348 - val_accuracy: 0.8580\n",
      "Epoch 4/15\n",
      "10532/10532 [==============================] - 12s 1ms/step - loss: 0.3852 - accuracy: 0.8927 - val_loss: 0.2547 - val_accuracy: 0.9020\n",
      "Epoch 5/15\n",
      "10532/10532 [==============================] - 11s 1ms/step - loss: 0.3516 - accuracy: 0.9040 - val_loss: 0.3072 - val_accuracy: 0.8724\n",
      "Epoch 6/15\n",
      "10532/10532 [==============================] - 11s 1ms/step - loss: 0.3386 - accuracy: 0.9084 - val_loss: 0.2549 - val_accuracy: 0.9005\n",
      "Epoch 7/15\n",
      "10532/10532 [==============================] - 11s 1ms/step - loss: 0.3145 - accuracy: 0.9144 - val_loss: 0.2439 - val_accuracy: 0.9013\n",
      "Epoch 8/15\n",
      "10532/10532 [==============================] - 11s 1ms/step - loss: 0.2968 - accuracy: 0.9164 - val_loss: 0.2731 - val_accuracy: 0.8853\n",
      "Epoch 9/15\n",
      "10532/10532 [==============================] - 12s 1ms/step - loss: 0.2769 - accuracy: 0.9229 - val_loss: 0.2831 - val_accuracy: 0.8838\n",
      "Epoch 10/15\n",
      "10532/10532 [==============================] - 12s 1ms/step - loss: 0.2650 - accuracy: 0.9246 - val_loss: 0.2475 - val_accuracy: 0.9096\n",
      "Epoch 11/15\n",
      "10532/10532 [==============================] - 14s 1ms/step - loss: 0.2453 - accuracy: 0.9308 - val_loss: 0.2450 - val_accuracy: 0.9028\n",
      "Epoch 12/15\n",
      "10532/10532 [==============================] - 11s 1ms/step - loss: 0.2240 - accuracy: 0.9400 - val_loss: 0.3018 - val_accuracy: 0.8819\n",
      "Epoch 13/15\n",
      "10532/10532 [==============================] - 11s 1ms/step - loss: 0.2042 - accuracy: 0.9420 - val_loss: 0.2795 - val_accuracy: 0.8864\n",
      "Epoch 14/15\n",
      "10532/10532 [==============================] - 11s 1ms/step - loss: 0.1829 - accuracy: 0.9483 - val_loss: 0.2565 - val_accuracy: 0.8994\n",
      "Epoch 15/15\n",
      "10532/10532 [==============================] - 13s 1ms/step - loss: 0.1686 - accuracy: 0.9537 - val_loss: 0.2899 - val_accuracy: 0.8918\n"
     ]
    }
   ],
   "source": [
    "# train the network\n",
    "print('[INFO] training network...')\n",
    "H = model.fit(trainX, trainY, validation_data=(testX, testY),\n",
    "              class_weight=classWeight, batch_size=64, epochs=15, verbose=1)\n"
   ]
  },
  {
   "cell_type": "code",
   "execution_count": 13,
   "id": "b813c484-a941-43c5-80c7-299bf6f56db5",
   "metadata": {},
   "outputs": [
    {
     "name": "stdout",
     "output_type": "stream",
     "text": [
      "[INFO] evaluating network...\n",
      "              precision    recall  f1-score   support\n",
      "\n",
      " not_smiling       0.95      0.89      0.92      1895\n",
      "     smiling       0.76      0.89      0.82       738\n",
      "\n",
      "    accuracy                           0.89      2633\n",
      "   macro avg       0.86      0.89      0.87      2633\n",
      "weighted avg       0.90      0.89      0.89      2633\n",
      "\n"
     ]
    }
   ],
   "source": [
    "# evaluate the network\n",
    "print('[INFO] evaluating network...')\n",
    "predictions = model.predict(testX, batch_size=64)\n",
    "print(classification_report(testY.argmax(axis=1),\n",
    "                            predictions.argmax(axis=1),\n",
    "                            target_names=le.classes_))"
   ]
  },
  {
   "cell_type": "code",
   "execution_count": 14,
   "id": "ec20b71a-f358-4aab-9391-9120110c0490",
   "metadata": {},
   "outputs": [
    {
     "name": "stdout",
     "output_type": "stream",
     "text": [
      "[INFO] serializing network\n"
     ]
    }
   ],
   "source": [
    "# save the model to disk\n",
    "print('[INFO] serializing network')\n",
    "model.save(args['model'])"
   ]
  },
  {
   "cell_type": "code",
   "execution_count": 15,
   "id": "179142c3-25d4-43d4-8c26-0aa601872450",
   "metadata": {},
   "outputs": [],
   "source": [
    "# model.save('./model3.h5')"
   ]
  },
  {
   "cell_type": "code",
   "execution_count": 36,
   "id": "16267b99-8c4f-4302-9deb-d19b965ca97c",
   "metadata": {},
   "outputs": [],
   "source": [
    "fitresult = pd.DataFrame(H.history)\n",
    "fitresult.to_csv('fitresult.csv', index=False)"
   ]
  },
  {
   "cell_type": "code",
   "execution_count": 30,
   "id": "83146689-8e42-41a5-88b1-b543a3fe5654",
   "metadata": {},
   "outputs": [],
   "source": [
    "# pd.read_csv('fitresult.csv')"
   ]
  },
  {
   "cell_type": "code",
   "execution_count": 26,
   "id": "a02c13ac-bf69-47aa-91ce-07551b54e99a",
   "metadata": {},
   "outputs": [
    {
     "data": {
      "image/png": "[encoded data removed]",
      "text/plain": [
       "<Figure size 432x288 with 1 Axes>"
      ]
     },
     "metadata": {},
     "output_type": "display_data"
    }
   ],
   "source": [
    "plt.style.use('ggplot')\n",
    "plt.figure()\n",
    "plt.plot(np.arange(0, 15), fitresult['loss'], label='train_loss')\n",
    "plt.plot(np.arange(0, 15), fitresult['val_loss'], label='val_loss')\n",
    "plt.plot(np.arange(0, 15), fitresult['accuracy'], label='accuracy')\n",
    "plt.plot(np.arange(0, 15), fitresult['val_accuracy'], label='val_accuracy')\n",
    "plt.title('Training Loss and Accuracy')\n",
    "plt.xlabel('Epoch #')\n",
    "plt.ylabel('Loss/Accuracy')\n",
    "plt.legend()\n",
    "plt.show()"
   ]
  },
  {
   "cell_type": "code",
   "execution_count": 33,
   "id": "d3f8cd9d-33e1-4bf1-9c79-3283b39dfa01",
   "metadata": {},
   "outputs": [],
   "source": [
    "import altair as alt"
   ]
  },
  {
   "cell_type": "code",
   "execution_count": 50,
   "id": "b75fc185-5509-4d8e-8128-1de5045ceb70",
   "metadata": {},
   "outputs": [
    {
     "data": {
      "text/html": [
       "\n",
       "<div id=\"altair-viz-7f2230aff9c24df18c1b0ce286f10dd4\"></div>\n",
       "<script type=\"text/javascript\">\n",
       "  var VEGA_DEBUG = (typeof VEGA_DEBUG == \"undefined\") ? {} : VEGA_DEBUG;\n",
       "  (function(spec, embedOpt){\n",
       "    let outputDiv = document.currentScript.previousElementSibling;\n",
       "    if (outputDiv.id !== \"altair-viz-7f2230aff9c24df18c1b0ce286f10dd4\") {\n",
       "      outputDiv = document.getElementById(\"altair-viz-7f2230aff9c24df18c1b0ce286f10dd4\");\n",
       "    }\n",
       "    const paths = {\n",
       "      \"vega\": \"https://cdn.jsdelivr.net/npm//vega@5?noext\",\n",
       "      \"vega-lib\": \"https://cdn.jsdelivr.net/npm//vega-lib?noext\",\n",
       "      \"vega-lite\": \"https://cdn.jsdelivr.net/npm//vega-lite@4.17.0?noext\",\n",
       "      \"vega-embed\": \"https://cdn.jsdelivr.net/npm//vega-embed@6?noext\",\n",
       "    };\n",
       "\n",
       "    function maybeLoadScript(lib, version) {\n",
       "      var key = `${lib.replace(\"-\", \"\")}_version`;\n",
       "      return (VEGA_DEBUG[key] == version) ?\n",
       "        Promise.resolve(paths[lib]) :\n",
       "        new Promise(function(resolve, reject) {\n",
       "          var s = document.createElement('script');\n",
       "          document.getElementsByTagName(\"head\")[0].appendChild(s);\n",
       "          s.async = true;\n",
       "          s.onload = () => {\n",
       "            VEGA_DEBUG[key] = version;\n",
       "            return resolve(paths[lib]);\n",
       "          };\n",
       "          s.onerror = () => reject(`Error loading script: ${paths[lib]}`);\n",
       "          s.src = paths[lib];\n",
       "        });\n",
       "    }\n",
       "\n",
       "    function showError(err) {\n",
       "      outputDiv.innerHTML = `<div class=\"error\" style=\"color:red;\">${err}</div>`;\n",
       "      throw err;\n",
       "    }\n",
       "\n",
       "    function displayChart(vegaEmbed) {\n",
       "      vegaEmbed(outputDiv, spec, embedOpt)\n",
       "        .catch(err => showError(`Javascript Error: ${err.message}<br>This usually means there's a typo in your chart specification. See the javascript console for the full traceback.`));\n",
       "    }\n",
       "\n",
       "    if(typeof define === \"function\" && define.amd) {\n",
       "      requirejs.config({paths});\n",
       "      require([\"vega-embed\"], displayChart, err => showError(`Error loading script: ${err.message}`));\n",
       "    } else {\n",
       "      maybeLoadScript(\"vega\", \"5\")\n",
       "        .then(() => maybeLoadScript(\"vega-lite\", \"4.17.0\"))\n",
       "        .then(() => maybeLoadScript(\"vega-embed\", \"6\"))\n",
       "        .catch(showError)\n",
       "        .then(() => displayChart(vegaEmbed));\n",
       "    }\n",
       "  })({\"config\": {\"view\": {\"continuousWidth\": 400, \"continuousHeight\": 300}}, \"layer\": [{\"mark\": {\"type\": \"line\", \"interpolate\": \"basis\"}, \"encoding\": {\"color\": {\"field\": \"series\", \"type\": \"nominal\"}, \"x\": {\"field\": \"epoch\", \"type\": \"quantitative\"}, \"y\": {\"field\": \"loss\", \"type\": \"quantitative\"}}}, {\"mark\": \"point\", \"encoding\": {\"opacity\": {\"value\": 0}, \"x\": {\"field\": \"epoch\", \"type\": \"quantitative\"}}, \"selection\": {\"selector013\": {\"type\": \"single\", \"nearest\": true, \"on\": \"mouseover\", \"fields\": [\"epoch\"], \"empty\": \"none\"}}}, {\"mark\": \"point\", \"encoding\": {\"color\": {\"field\": \"series\", \"type\": \"nominal\"}, \"opacity\": {\"condition\": {\"value\": 1, \"selection\": \"selector013\"}, \"value\": 0}, \"x\": {\"field\": \"epoch\", \"type\": \"quantitative\"}, \"y\": {\"field\": \"loss\", \"type\": \"quantitative\"}}}, {\"mark\": {\"type\": \"rule\", \"color\": \"gray\"}, \"encoding\": {\"x\": {\"field\": \"epoch\", \"type\": \"quantitative\"}}, \"transform\": [{\"filter\": {\"selection\": \"selector013\"}}]}, {\"mark\": {\"type\": \"text\", \"align\": \"left\", \"dx\": 5, \"dy\": -5}, \"encoding\": {\"color\": {\"field\": \"series\", \"type\": \"nominal\"}, \"text\": {\"condition\": {\"field\": \"loss\", \"format\": \".3f\", \"type\": \"quantitative\", \"selection\": \"selector013\"}, \"value\": \" \"}, \"x\": {\"field\": \"epoch\", \"type\": \"quantitative\"}, \"y\": {\"field\": \"loss\", \"type\": \"quantitative\"}}}], \"data\": {\"name\": \"data-78477082ee3fc32fd7668a1038e37abb\"}, \"height\": 300, \"width\": 600, \"$schema\": \"https://vega.github.io/schema/vega-lite/v4.17.0.json\", \"datasets\": {\"data-78477082ee3fc32fd7668a1038e37abb\": [{\"epoch\": 0, \"series\": \"val_loss\", \"loss\": 0.37977708324342907}, {\"epoch\": 1, \"series\": \"val_loss\", \"loss\": 0.31952936486105843}, {\"epoch\": 2, \"series\": \"val_loss\", \"loss\": 0.3347596792702977}, {\"epoch\": 3, \"series\": \"val_loss\", \"loss\": 0.2547332288911711}, {\"epoch\": 4, \"series\": \"val_loss\", \"loss\": 0.30715287539880176}, {\"epoch\": 5, \"series\": \"val_loss\", \"loss\": 0.2549414354678211}, {\"epoch\": 6, \"series\": \"val_loss\", \"loss\": 0.24393890039734273}, {\"epoch\": 7, \"series\": \"val_loss\", \"loss\": 0.2731328929416861}, {\"epoch\": 8, \"series\": \"val_loss\", \"loss\": 0.28308261297091397}, {\"epoch\": 9, \"series\": \"val_loss\", \"loss\": 0.24753375291015048}, {\"epoch\": 10, \"series\": \"val_loss\", \"loss\": 0.24501051574356875}, {\"epoch\": 11, \"series\": \"val_loss\", \"loss\": 0.3017960788687055}, {\"epoch\": 12, \"series\": \"val_loss\", \"loss\": 0.27950702729874405}, {\"epoch\": 13, \"series\": \"val_loss\", \"loss\": 0.25647644719418083}, {\"epoch\": 14, \"series\": \"val_loss\", \"loss\": 0.28994537707725226}, {\"epoch\": 0, \"series\": \"val_accuracy\", \"loss\": 0.8332700133323669}, {\"epoch\": 1, \"series\": \"val_accuracy\", \"loss\": 0.8617546558380127}, {\"epoch\": 2, \"series\": \"val_accuracy\", \"loss\": 0.8579567074775696}, {\"epoch\": 3, \"series\": \"val_accuracy\", \"loss\": 0.9020128846168518}, {\"epoch\": 4, \"series\": \"val_accuracy\", \"loss\": 0.8723888993263245}, {\"epoch\": 5, \"series\": \"val_accuracy\", \"loss\": 0.9004937410354614}, {\"epoch\": 6, \"series\": \"val_accuracy\", \"loss\": 0.901253342628479}, {\"epoch\": 7, \"series\": \"val_accuracy\", \"loss\": 0.885301947593689}, {\"epoch\": 8, \"series\": \"val_accuracy\", \"loss\": 0.8837827444076538}, {\"epoch\": 9, \"series\": \"val_accuracy\", \"loss\": 0.9096088409423828}, {\"epoch\": 10, \"series\": \"val_accuracy\", \"loss\": 0.9027724862098694}, {\"epoch\": 11, \"series\": \"val_accuracy\", \"loss\": 0.8818838000297546}, {\"epoch\": 12, \"series\": \"val_accuracy\", \"loss\": 0.8864413499832153}, {\"epoch\": 13, \"series\": \"val_accuracy\", \"loss\": 0.8993543386459351}, {\"epoch\": 14, \"series\": \"val_accuracy\", \"loss\": 0.8917584419250488}, {\"epoch\": 0, \"series\": \"loss\", \"loss\": 0.6483809298722861}, {\"epoch\": 1, \"series\": \"loss\", \"loss\": 0.44185684170281075}, {\"epoch\": 2, \"series\": \"loss\", \"loss\": 0.39759464466861566}, {\"epoch\": 3, \"series\": \"loss\", \"loss\": 0.3851691779305262}, {\"epoch\": 4, \"series\": \"loss\", \"loss\": 0.35163545877907243}, {\"epoch\": 5, \"series\": \"loss\", \"loss\": 0.33862569285263094}, {\"epoch\": 6, \"series\": \"loss\", \"loss\": 0.3145075537578443}, {\"epoch\": 7, \"series\": \"loss\", \"loss\": 0.29676172661319505}, {\"epoch\": 8, \"series\": \"loss\", \"loss\": 0.2769359256258674}, {\"epoch\": 9, \"series\": \"loss\", \"loss\": 0.26503832680709094}, {\"epoch\": 10, \"series\": \"loss\", \"loss\": 0.24532172091777815}, {\"epoch\": 11, \"series\": \"loss\", \"loss\": 0.22395771798460917}, {\"epoch\": 12, \"series\": \"loss\", \"loss\": 0.20422461669095515}, {\"epoch\": 13, \"series\": \"loss\", \"loss\": 0.18292699684061753}, {\"epoch\": 14, \"series\": \"loss\", \"loss\": 0.1686464366246619}, {\"epoch\": 0, \"series\": \"accuracy\", \"loss\": 0.785605788230896}, {\"epoch\": 1, \"series\": \"accuracy\", \"loss\": 0.8764716982841492}, {\"epoch\": 2, \"series\": \"accuracy\", \"loss\": 0.8894796967506409}, {\"epoch\": 3, \"series\": \"accuracy\", \"loss\": 0.8927079439163208}, {\"epoch\": 4, \"series\": \"accuracy\", \"loss\": 0.904006838798523}, {\"epoch\": 5, \"series\": \"accuracy\", \"loss\": 0.9083744883537292}, {\"epoch\": 6, \"series\": \"accuracy\", \"loss\": 0.9143562316894531}, {\"epoch\": 7, \"series\": \"accuracy\", \"loss\": 0.9163501858711243}, {\"epoch\": 8, \"series\": \"accuracy\", \"loss\": 0.9229016304016113}, {\"epoch\": 9, \"series\": \"accuracy\", \"loss\": 0.9246107339859009}, {\"epoch\": 10, \"series\": \"accuracy\", \"loss\": 0.9307823777198792}, {\"epoch\": 11, \"series\": \"accuracy\", \"loss\": 0.9399924278259277}, {\"epoch\": 12, \"series\": \"accuracy\", \"loss\": 0.9419863224029541}, {\"epoch\": 13, \"series\": \"accuracy\", \"loss\": 0.9483478665351868}, {\"epoch\": 14, \"series\": \"accuracy\", \"loss\": 0.953665018081665}]}}, {\"mode\": \"vega-lite\"});\n",
       "</script>"
      ],
      "text/plain": [
       "alt.LayerChart(...)"
      ]
     },
     "execution_count": 50,
     "metadata": {},
     "output_type": "execute_result"
    }
   ],
   "source": [
    "fitresult['epoch'] = np.arange(0, 15)\n",
    "fitresult2 = pd.melt(fitresult, id_vars=['epoch'], var_name='series', value_name='loss')\n",
    "\n",
    "# Create a selection that chooses the nearest point & selects based on x-value\n",
    "nearest = alt.selection(type='single', nearest=True, on='mouseover',\n",
    "                        fields=['epoch'], empty='none')\n",
    "\n",
    "# The basic line\n",
    "line = alt.Chart(fitresult2).mark_line(interpolate='basis').encode(\n",
    "    x='epoch:Q',\n",
    "    y='loss:Q',\n",
    "    color='series:N'\n",
    ")\n",
    "\n",
    "# Transparent selectors across the chart. This is what tells us\n",
    "# the x-value of the cursor\n",
    "selectors = alt.Chart(fitresult2).mark_point().encode(\n",
    "    x='epoch:Q',\n",
    "    opacity=alt.value(0),\n",
    ").add_selection(\n",
    "    nearest\n",
    ")\n",
    "\n",
    "# Draw points on the line, and highlight based on selection\n",
    "points = line.mark_point().encode(\n",
    "    opacity=alt.condition(nearest, alt.value(1), alt.value(0))\n",
    ")\n",
    "# Draw text labels near the points, and highlight based on selection\n",
    "text = line.mark_text(align='left', dx=5, dy=-5).encode(\n",
    "    text=alt.condition(nearest, 'loss:Q', alt.value(' '), format='.3f')\n",
    ")\n",
    "# Draw a rule at the location of the selection\n",
    "rules = alt.Chart(fitresult2).mark_rule(color='gray').encode(\n",
    "    x='epoch:Q',\n",
    ").transform_filter(\n",
    "    nearest\n",
    ")\n",
    "\n",
    "# Put the five layers into a chart and bind the data\n",
    "alt.layer(\n",
    "    line, selectors, points, rules, text\n",
    ").properties(\n",
    "    width=600, height=300\n",
    ")\n",
    "# alt.Chart(fitresult2).mark_line().encode(\n",
    "#     x='epoch',\n",
    "#     y='loss',\n",
    "#     color='series',\n",
    "#     tooltip=['epoch']\n",
    "# )"
   ]
  },
  {
   "cell_type": "code",
   "execution_count": null,
   "id": "00f3b614-aba8-4e1f-9f76-3246917db736",
   "metadata": {},
   "outputs": [],
   "source": []
  }
 ],
 "metadata": {
  "kernelspec": {
   "display_name": "Python 3 (ipykernel)",
   "language": "python",
   "name": "python3"
  },
  "language_info": {
   "codemirror_mode": {
    "name": "ipython",
    "version": 3
   },
   "file_extension": ".py",
   "mimetype": "text/x-python",
   "name": "python",
   "nbconvert_exporter": "python",
   "pygments_lexer": "ipython3",
   "version": "3.7.12"
  }
 },
 "nbformat": 4,
 "nbformat_minor": 5
}
