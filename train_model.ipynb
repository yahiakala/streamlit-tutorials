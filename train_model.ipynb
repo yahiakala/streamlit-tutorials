{
 "cells": [
  {
   "cell_type": "code",
   "execution_count": 2,
   "id": "de3c944b-fc41-4160-8315-07a63b995890",
   "metadata": {},
   "outputs": [
    {
     "name": "stderr",
     "output_type": "stream",
     "text": [
      "Using TensorFlow backend.\n",
      "C:\\Users\\Yahia.Kala\\Anaconda3\\envs\\stream1\\lib\\site-packages\\tensorflow\\python\\framework\\dtypes.py:516: FutureWarning: Passing (type, 1) or '1type' as a synonym of type is deprecated; in a future version of numpy, it will be understood as (type, (1,)) / '(1,)type'.\n",
      "  _np_qint8 = np.dtype([(\"qint8\", np.int8, 1)])\n",
      "C:\\Users\\Yahia.Kala\\Anaconda3\\envs\\stream1\\lib\\site-packages\\tensorflow\\python\\framework\\dtypes.py:517: FutureWarning: Passing (type, 1) or '1type' as a synonym of type is deprecated; in a future version of numpy, it will be understood as (type, (1,)) / '(1,)type'.\n",
      "  _np_quint8 = np.dtype([(\"quint8\", np.uint8, 1)])\n",
      "C:\\Users\\Yahia.Kala\\Anaconda3\\envs\\stream1\\lib\\site-packages\\tensorflow\\python\\framework\\dtypes.py:518: FutureWarning: Passing (type, 1) or '1type' as a synonym of type is deprecated; in a future version of numpy, it will be understood as (type, (1,)) / '(1,)type'.\n",
      "  _np_qint16 = np.dtype([(\"qint16\", np.int16, 1)])\n",
      "C:\\Users\\Yahia.Kala\\Anaconda3\\envs\\stream1\\lib\\site-packages\\tensorflow\\python\\framework\\dtypes.py:519: FutureWarning: Passing (type, 1) or '1type' as a synonym of type is deprecated; in a future version of numpy, it will be understood as (type, (1,)) / '(1,)type'.\n",
      "  _np_quint16 = np.dtype([(\"quint16\", np.uint16, 1)])\n",
      "C:\\Users\\Yahia.Kala\\Anaconda3\\envs\\stream1\\lib\\site-packages\\tensorflow\\python\\framework\\dtypes.py:520: FutureWarning: Passing (type, 1) or '1type' as a synonym of type is deprecated; in a future version of numpy, it will be understood as (type, (1,)) / '(1,)type'.\n",
      "  _np_qint32 = np.dtype([(\"qint32\", np.int32, 1)])\n",
      "C:\\Users\\Yahia.Kala\\Anaconda3\\envs\\stream1\\lib\\site-packages\\tensorflow\\python\\framework\\dtypes.py:525: FutureWarning: Passing (type, 1) or '1type' as a synonym of type is deprecated; in a future version of numpy, it will be understood as (type, (1,)) / '(1,)type'.\n",
      "  np_resource = np.dtype([(\"resource\", np.ubyte, 1)])\n",
      "C:\\Users\\Yahia.Kala\\Anaconda3\\envs\\stream1\\lib\\site-packages\\tensorboard\\compat\\tensorflow_stub\\dtypes.py:541: FutureWarning: Passing (type, 1) or '1type' as a synonym of type is deprecated; in a future version of numpy, it will be understood as (type, (1,)) / '(1,)type'.\n",
      "  _np_qint8 = np.dtype([(\"qint8\", np.int8, 1)])\n",
      "C:\\Users\\Yahia.Kala\\Anaconda3\\envs\\stream1\\lib\\site-packages\\tensorboard\\compat\\tensorflow_stub\\dtypes.py:542: FutureWarning: Passing (type, 1) or '1type' as a synonym of type is deprecated; in a future version of numpy, it will be understood as (type, (1,)) / '(1,)type'.\n",
      "  _np_quint8 = np.dtype([(\"quint8\", np.uint8, 1)])\n",
      "C:\\Users\\Yahia.Kala\\Anaconda3\\envs\\stream1\\lib\\site-packages\\tensorboard\\compat\\tensorflow_stub\\dtypes.py:543: FutureWarning: Passing (type, 1) or '1type' as a synonym of type is deprecated; in a future version of numpy, it will be understood as (type, (1,)) / '(1,)type'.\n",
      "  _np_qint16 = np.dtype([(\"qint16\", np.int16, 1)])\n",
      "C:\\Users\\Yahia.Kala\\Anaconda3\\envs\\stream1\\lib\\site-packages\\tensorboard\\compat\\tensorflow_stub\\dtypes.py:544: FutureWarning: Passing (type, 1) or '1type' as a synonym of type is deprecated; in a future version of numpy, it will be understood as (type, (1,)) / '(1,)type'.\n",
      "  _np_quint16 = np.dtype([(\"quint16\", np.uint16, 1)])\n",
      "C:\\Users\\Yahia.Kala\\Anaconda3\\envs\\stream1\\lib\\site-packages\\tensorboard\\compat\\tensorflow_stub\\dtypes.py:545: FutureWarning: Passing (type, 1) or '1type' as a synonym of type is deprecated; in a future version of numpy, it will be understood as (type, (1,)) / '(1,)type'.\n",
      "  _np_qint32 = np.dtype([(\"qint32\", np.int32, 1)])\n",
      "C:\\Users\\Yahia.Kala\\Anaconda3\\envs\\stream1\\lib\\site-packages\\tensorboard\\compat\\tensorflow_stub\\dtypes.py:550: FutureWarning: Passing (type, 1) or '1type' as a synonym of type is deprecated; in a future version of numpy, it will be understood as (type, (1,)) / '(1,)type'.\n",
      "  np_resource = np.dtype([(\"resource\", np.ubyte, 1)])\n"
     ]
    }
   ],
   "source": [
    "from sklearn.preprocessing import LabelEncoder\n",
    "from sklearn.model_selection import train_test_split\n",
    "from sklearn.metrics import classification_report\n",
    "from keras.preprocessing.image import img_to_array\n",
    "from keras.utils import np_utils\n",
    "from lenet.nn.conv import LeNet\n",
    "from imutils import paths\n",
    "import imutils\n",
    "import matplotlib.pyplot as plt\n",
    "import numpy as np\n",
    "import argparse\n",
    "import cv2\n",
    "import os"
   ]
  },
  {
   "cell_type": "code",
   "execution_count": 4,
   "id": "25a53235-50d9-46e0-8049-a94da3d9f4fd",
   "metadata": {},
   "outputs": [],
   "source": [
    "args = {}\n",
    "args['dataset'] = './SMILEs'\n",
    "args['model'] = './model2.h5'"
   ]
  },
  {
   "cell_type": "code",
   "execution_count": 5,
   "id": "a928d414-b1e8-47fc-8e2b-40395c907e1a",
   "metadata": {},
   "outputs": [],
   "source": [
    "# initialize the list of data and labels\n",
    "data = []\n",
    "labels = []\n",
    "\n",
    "# loop over the input images\n",
    "for imagePath in sorted(list(paths.list_images(args['dataset']))):\n",
    "    # load the image, pre-process it, and store in the data list\n",
    "    image = cv2.imread(imagePath)\n",
    "    image = cv2.cvtColor(image, cv2.COLOR_BGR2GRAY)\n",
    "    image = imutils.resize(image, width=28) # 28 x 28 x 1\n",
    "    image = img_to_array(image)\n",
    "    data.append(image)\n",
    "\n",
    "    # extravt the class label from the image path and update the labels list\n",
    "    label = imagePath.split(os.path.sep)[-3] # C:\\Users\\Balaji\\Documents\\Smile-Detector\\SMILEs\\positives\\positives7\\3.jpg\n",
    "    label = 'smiling' if label == 'positives' else 'not_smiling'\n",
    "    labels.append(label)"
   ]
  },
  {
   "cell_type": "code",
   "execution_count": 6,
   "id": "331aeb2d-4f8d-4f65-a9af-d44682014834",
   "metadata": {},
   "outputs": [
    {
     "data": {
      "text/plain": [
       "(13165, 13165)"
      ]
     },
     "execution_count": 6,
     "metadata": {},
     "output_type": "execute_result"
    }
   ],
   "source": [
    "len(data), len(labels)"
   ]
  },
  {
   "cell_type": "code",
   "execution_count": 18,
   "id": "5e80b55c-af20-4acf-992f-add78ff9eae3",
   "metadata": {},
   "outputs": [
    {
     "data": {
      "text/plain": [
       "(28, 28, 1)"
      ]
     },
     "execution_count": 18,
     "metadata": {},
     "output_type": "execute_result"
    }
   ],
   "source": [
    "np.shape(data[0])"
   ]
  },
  {
   "cell_type": "code",
   "execution_count": 14,
   "id": "0bd2f1f4-4bbb-45ec-b9eb-a0587fd60bd5",
   "metadata": {},
   "outputs": [
    {
     "data": {
      "text/plain": [
       "['not_smiling', 'not_smiling', 'not_smiling']"
      ]
     },
     "execution_count": 14,
     "metadata": {},
     "output_type": "execute_result"
    }
   ],
   "source": [
    "labels[0:3]"
   ]
  },
  {
   "cell_type": "code",
   "execution_count": 19,
   "id": "f9b4ceef-e7ee-430c-b529-3ddfe617e18a",
   "metadata": {},
   "outputs": [],
   "source": [
    "# scale the raw pixel intensities to the range [0, 1]\n",
    "data = np.array(data, dtype='float') / 255.0 # 0 to 255\n",
    "labels = np.array(labels)"
   ]
  },
  {
   "cell_type": "code",
   "execution_count": 20,
   "id": "18ee5a87-b8aa-4530-a151-cd345ed97bff",
   "metadata": {},
   "outputs": [],
   "source": [
    "# convert the labels from integers to vectors\n",
    "le = LabelEncoder().fit(labels)\n",
    "labels = np_utils.to_categorical(le.transform(labels), 2)"
   ]
  },
  {
   "cell_type": "code",
   "execution_count": 21,
   "id": "5b266bed-abf2-4648-8a35-0c8cdbc37d79",
   "metadata": {},
   "outputs": [],
   "source": [
    "# account for skew in the labeled data\n",
    "classTotals = labels.sum(axis=0)\n",
    "classWeight = dict()\n",
    "\n",
    "\n",
    "for i in range(0, len(classTotals)):\n",
    "    classWeight[i] = classTotals.max() / classTotals[i]"
   ]
  },
  {
   "cell_type": "code",
   "execution_count": 22,
   "id": "0b0b374a-47db-4c02-a5a5-e26c2aecc490",
   "metadata": {},
   "outputs": [],
   "source": [
    "# partition the data into training and testing sploits using 80% of\n",
    "# the data for training and the remaining 20% for testing\n",
    "(trainX, testX, trainY, testY) = train_test_split(data,\n",
    "                                                  labels,\n",
    "                                                  test_size=0.20,\n",
    "                                                  stratify=labels,\n",
    "                                                  random_state=42)\n"
   ]
  },
  {
   "cell_type": "code",
   "execution_count": 23,
   "id": "3c4a1388-588f-4dd9-a4df-d1eab822a903",
   "metadata": {},
   "outputs": [
    {
     "name": "stdout",
     "output_type": "stream",
     "text": [
      "[INFO] compiling model...\n",
      "WARNING:tensorflow:From C:\\Users\\Yahia.Kala\\Anaconda3\\envs\\stream1\\lib\\site-packages\\keras\\backend\\tensorflow_backend.py:4070: The name tf.nn.max_pool is deprecated. Please use tf.nn.max_pool2d instead.\n",
      "\n"
     ]
    }
   ],
   "source": [
    "\n",
    "# initialize the model\n",
    "print('[INFO] compiling model...')\n",
    "model = LeNet.build(width=28, height=28, depth=1, classes=2)\n",
    "model.compile(loss=['binary_crossentropy'], optimizer='adam', metrics=['accuracy'])\n"
   ]
  },
  {
   "cell_type": "code",
   "execution_count": 24,
   "id": "1f098c1e-d353-41f9-bb85-eb16d22f69b5",
   "metadata": {},
   "outputs": [
    {
     "name": "stdout",
     "output_type": "stream",
     "text": [
      "[INFO] training network...\n",
      "WARNING:tensorflow:From C:\\Users\\Yahia.Kala\\Anaconda3\\envs\\stream1\\lib\\site-packages\\tensorflow\\python\\ops\\math_grad.py:1250: add_dispatch_support.<locals>.wrapper (from tensorflow.python.ops.array_ops) is deprecated and will be removed in a future version.\n",
      "Instructions for updating:\n",
      "Use tf.where in 2.0, which has the same broadcast rule as np.where\n",
      "WARNING:tensorflow:From C:\\Users\\Yahia.Kala\\Anaconda3\\envs\\stream1\\lib\\site-packages\\keras\\backend\\tensorflow_backend.py:422: The name tf.global_variables is deprecated. Please use tf.compat.v1.global_variables instead.\n",
      "\n",
      "Train on 10532 samples, validate on 2633 samples\n",
      "Epoch 1/15\n",
      "10532/10532 [==============================] - 11s 1ms/step - loss: 0.6114 - accuracy: 0.7964 - val_loss: 0.3355 - val_accuracy: 0.8621\n",
      "Epoch 2/15\n",
      "10532/10532 [==============================] - 10s 971us/step - loss: 0.4347 - accuracy: 0.8739 - val_loss: 0.3641 - val_accuracy: 0.8382\n",
      "Epoch 3/15\n",
      "10532/10532 [==============================] - 10s 980us/step - loss: 0.4016 - accuracy: 0.8883 - val_loss: 0.2725 - val_accuracy: 0.8883\n",
      "Epoch 4/15\n",
      "10532/10532 [==============================] - 11s 1ms/step - loss: 0.3671 - accuracy: 0.8987 - val_loss: 0.2419 - val_accuracy: 0.9028\n",
      "Epoch 5/15\n",
      "10532/10532 [==============================] - 10s 994us/step - loss: 0.3438 - accuracy: 0.9056 - val_loss: 0.2529 - val_accuracy: 0.8963\n",
      "Epoch 6/15\n",
      "10532/10532 [==============================] - 10s 985us/step - loss: 0.3264 - accuracy: 0.9146 - val_loss: 0.3073 - val_accuracy: 0.8663\n",
      "Epoch 7/15\n",
      "10532/10532 [==============================] - 10s 991us/step - loss: 0.3050 - accuracy: 0.9164 - val_loss: 0.2655 - val_accuracy: 0.8902\n",
      "Epoch 8/15\n",
      "10532/10532 [==============================] - 11s 1ms/step - loss: 0.2776 - accuracy: 0.9246 - val_loss: 0.2663 - val_accuracy: 0.8944\n",
      "Epoch 9/15\n",
      "10532/10532 [==============================] - 11s 1ms/step - loss: 0.2621 - accuracy: 0.9272 - val_loss: 0.2387 - val_accuracy: 0.9039\n",
      "Epoch 10/15\n",
      "10532/10532 [==============================] - 11s 1ms/step - loss: 0.2442 - accuracy: 0.9348 - val_loss: 0.2302 - val_accuracy: 0.9088\n",
      "Epoch 11/15\n",
      "10532/10532 [==============================] - 11s 1ms/step - loss: 0.2172 - accuracy: 0.9399 - val_loss: 0.3016 - val_accuracy: 0.8819\n",
      "Epoch 12/15\n",
      "10532/10532 [==============================] - 11s 1ms/step - loss: 0.2040 - accuracy: 0.9440 - val_loss: 0.2408 - val_accuracy: 0.9073\n",
      "Epoch 13/15\n",
      "10532/10532 [==============================] - 11s 1ms/step - loss: 0.1773 - accuracy: 0.9507 - val_loss: 0.2566 - val_accuracy: 0.9088\n",
      "Epoch 14/15\n",
      "10532/10532 [==============================] - 11s 1ms/step - loss: 0.1571 - accuracy: 0.9565 - val_loss: 0.2707 - val_accuracy: 0.9115\n",
      "Epoch 15/15\n",
      "10532/10532 [==============================] - 11s 1ms/step - loss: 0.1477 - accuracy: 0.9574 - val_loss: 0.2941 - val_accuracy: 0.9115\n"
     ]
    }
   ],
   "source": [
    "# train the network\n",
    "print('[INFO] training network...')\n",
    "H = model.fit(trainX, trainY, validation_data=(testX, testY),\n",
    "              class_weight=classWeight, batch_size=64, epochs=15, verbose=1)\n"
   ]
  },
  {
   "cell_type": "code",
   "execution_count": 25,
   "id": "b813c484-a941-43c5-80c7-299bf6f56db5",
   "metadata": {},
   "outputs": [
    {
     "name": "stdout",
     "output_type": "stream",
     "text": [
      "[INFO] evaluating network...\n",
      "              precision    recall  f1-score   support\n",
      "\n",
      " not_smiling       0.94      0.94      0.94      1895\n",
      "     smiling       0.84      0.84      0.84       738\n",
      "\n",
      "    accuracy                           0.91      2633\n",
      "   macro avg       0.89      0.89      0.89      2633\n",
      "weighted avg       0.91      0.91      0.91      2633\n",
      "\n"
     ]
    }
   ],
   "source": [
    "# evaluate the network\n",
    "print('[INFO] evaluating network...')\n",
    "predictions = model.predict(testX, batch_size=64)\n",
    "print(classification_report(testY.argmax(axis=1),\n",
    "                            predictions.argmax(axis=1),\n",
    "                            target_names=le.classes_))"
   ]
  },
  {
   "cell_type": "code",
   "execution_count": 26,
   "id": "ec20b71a-f358-4aab-9391-9120110c0490",
   "metadata": {},
   "outputs": [
    {
     "name": "stdout",
     "output_type": "stream",
     "text": [
      "[INFO] serializing network\n"
     ]
    }
   ],
   "source": [
    "# save the model to disk\n",
    "print('[INFO] serializing network')\n",
    "model.save(args['model'])"
   ]
  },
  {
   "cell_type": "code",
   "execution_count": 28,
   "id": "179142c3-25d4-43d4-8c26-0aa601872450",
   "metadata": {},
   "outputs": [],
   "source": [
    "model.save('./model4')"
   ]
  },
  {
   "cell_type": "code",
   "execution_count": 27,
   "id": "a02c13ac-bf69-47aa-91ce-07551b54e99a",
   "metadata": {},
   "outputs": [
    {
     "data": {
      "image/png": "[encoded data removed]",
      "text/plain": [
       "<Figure size 432x288 with 1 Axes>"
      ]
     },
     "metadata": {},
     "output_type": "display_data"
    }
   ],
   "source": [
    "plt.style.use('ggplot')\n",
    "plt.figure()\n",
    "plt.plot(np.arange(0, 15), H.history['loss'], label='train_loss')\n",
    "plt.plot(np.arange(0, 15), H.history['val_loss'], label='val_loss')\n",
    "plt.plot(np.arange(0, 15), H.history['accuracy'], label='accuracy')\n",
    "plt.plot(np.arange(0, 15), H.history['val_accuracy'], label='val_accuracy')\n",
    "plt.title('Training Loss and Accuracy')\n",
    "plt.xlabel('Epoch #')\n",
    "plt.ylabel('Loss/Accuracy')\n",
    "plt.legend()\n",
    "plt.show()"
   ]
  },
  {
   "cell_type": "code",
   "execution_count": null,
   "id": "ae0ccf1e-c6e4-40e5-8b09-5306df5d9d1b",
   "metadata": {},
   "outputs": [],
   "source": []
  }
 ],
 "metadata": {
  "kernelspec": {
   "display_name": "Python 3 (ipykernel)",
   "language": "python",
   "name": "python3"
  },
  "language_info": {
   "codemirror_mode": {
    "name": "ipython",
    "version": 3
   },
   "file_extension": ".py",
   "mimetype": "text/x-python",
   "name": "python",
   "nbconvert_exporter": "python",
   "pygments_lexer": "ipython3",
   "version": "3.7.12"
  }
 },
 "nbformat": 4,
 "nbformat_minor": 5
}
